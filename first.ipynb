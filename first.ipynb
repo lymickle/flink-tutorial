{
  "nbformat": 4,
  "nbformat_minor": 0,
  "metadata": {
    "colab": {
      "name": "first.ipynb",
      "private_outputs": true,
      "provenance": [],
      "authorship_tag": "ABX9TyOQsCxgPI418Eio8nVu0mLy",
      "include_colab_link": true
    },
    "kernelspec": {
      "display_name": "Python 3",
      "name": "python3"
    },
    "language_info": {
      "name": "python"
    },
    "accelerator": "GPU"
  },
  "cells": [
    {
      "cell_type": "markdown",
      "metadata": {
        "id": "view-in-github",
        "colab_type": "text"
      },
      "source": [
        "<a href=\"https://colab.research.google.com/github/lymickle/flink-tutorial/blob/master/first.ipynb\" target=\"_parent\"><img src=\"https://colab.research.google.com/assets/colab-badge.svg\" alt=\"Open In Colab\"/></a>"
      ]
    },
    {
      "cell_type": "code",
      "metadata": {
        "id": "5ALvt6SILwaH"
      },
      "source": [
        "import tensorflow as tf\n",
        "import timeit\n",
        "print(tf.__version__)\n",
        "\n",
        "with tf.device('/cpu:0'):\n",
        "  cpu_a = tf.random.normal([10000,50000])\n",
        "  cpu_b = tf.random.normal([50000,2000])\n",
        "  print(cpu_a.device,cpu_b.device)\n",
        "\n",
        "with tf.device('/gpu:0'):\n",
        "  gpu_a = tf.random.normal([10000,10000])\n",
        "  gpu_b = tf.random.normal([10000,2000])\n",
        "  print(gpu_a.device,gpu_b.device)\n",
        "\n",
        "def cpu_run():\n",
        "  with tf.device('/cpu:0'):\n",
        "    c = tf.matmul(cpu_a,cpu_b)\n",
        "  return c\n",
        "\n",
        "def gpu_run():\n",
        "  with tf.device('/gpu:0'):\n",
        "    c = tf.matmul(gpu_a,gpu_b)\n",
        "  return c\n",
        "\n",
        "cpu_time = timeit.timeit(cpu_run,number=10)\n",
        "gpu_time = timeit.timeit(gpu_run,number=10)\n",
        "print('warm up:',cpu_time,gpu_time)\n",
        "\n",
        "cpu_time = timeit.timeit(cpu_run,number=10)\n",
        "gpu_time = timeit.timeit(gpu_run,number=10)\n",
        "print('warm up:',cpu_time,gpu_time)\n"
      ],
      "execution_count": null,
      "outputs": []
    },
    {
      "cell_type": "code",
      "metadata": {
        "id": "QNaSyW3QM7a5"
      },
      "source": [
        ""
      ],
      "execution_count": null,
      "outputs": []
    }
  ]
}